{
 "cells": [
  {
   "cell_type": "code",
   "execution_count": 1,
   "id": "bae0876c",
   "metadata": {},
   "outputs": [],
   "source": [
    "import numpy as np\n",
    "from sklearn.utils import shuffle\n",
    "# load training data\n",
    "training_data = np.load('data/training_data.npy')\n",
    "prices = np.load('data/prices.npy')"
   ]
  },
  {
   "cell_type": "code",
   "execution_count": 27,
   "id": "b2dc8286",
   "metadata": {},
   "outputs": [
    {
     "name": "stdout",
     "output_type": "stream",
     "text": [
      "The first 4 samples are:\n",
      "  [[2.0150e+03 7.5000e+04 1.2990e+01 2.4940e+03 1.0060e+02 8.0000e+00\n",
      "  1.0000e+00 0.0000e+00 1.0000e+00 0.0000e+00 0.0000e+00 0.0000e+00\n",
      "  1.0000e+00 0.0000e+00]\n",
      " [2.0130e+03 7.3648e+04 1.5100e+01 2.1790e+03 1.4000e+02 7.0000e+00\n",
      "  1.0000e+00 0.0000e+00 1.0000e+00 0.0000e+00 0.0000e+00 0.0000e+00\n",
      "  1.0000e+00 0.0000e+00]\n",
      " [2.0120e+03 7.4000e+04 1.9010e+01 1.4610e+03 1.0845e+02 5.0000e+00\n",
      "  1.0000e+00 0.0000e+00 1.0000e+00 0.0000e+00 0.0000e+00 0.0000e+00\n",
      "  1.0000e+00 0.0000e+00]\n",
      " [2.0160e+03 4.0448e+04 1.5960e+01 2.5230e+03 6.2100e+01 7.0000e+00\n",
      "  1.0000e+00 0.0000e+00 1.0000e+00 0.0000e+00 0.0000e+00 0.0000e+00\n",
      "  1.0000e+00 0.0000e+00]]\n",
      "The first 4 prices are:\n",
      "  [11.75  7.31  6.35  3.5 ]\n"
     ]
    }
   ],
   "source": [
    "print('The first 4 samples are:\\n ', training_data[:4])\n",
    "print('The first 4 prices are:\\n ', prices[:4])\n",
    "# shuffle\n",
    "training_data, prices = shuffle(training_data, prices, random_state=0)"
   ]
  },
  {
   "cell_type": "code",
   "execution_count": null,
   "id": "6823acac",
   "metadata": {},
   "outputs": [
    {
     "name": "stdout",
     "output_type": "stream",
     "text": [
      "[[ 0.         -0.5863136  -0.8811415   1.2989959   0.30149427  1.3471507\n",
      "   0.          0.          0.          0.          0.          0.\n",
      "   0.57735026 -0.57735026]\n",
      " [ 1.6035675  -0.0356558   0.94917953 -0.9730829  -0.30880475 -0.9622505\n",
      "   0.          0.          0.          0.          0.          0.\n",
      "   0.57735026 -0.57735026]\n",
      " [-0.5345225  -1.004603   -1.1111294   0.64717     1.3845452   0.57735026\n",
      "   0.          0.          0.          0.          0.          0.\n",
      "  -1.7320508   1.7320508 ]\n",
      " [-1.069045    1.6265724   1.0430912  -0.9730829  -1.3772347  -0.9622505\n",
      "   0.          0.          0.          0.          0.          0.\n",
      "   0.57735026 -0.57735026]]\n"
     ]
    }
   ],
   "source": [
    "from sklearn.preprocessing import StandardScaler\n",
    "scaler = StandardScaler()\n",
    "scaler.fit(training_data)\n",
    "def normalizare(train, test):\n",
    "    train_data = scaler.transform(train)\n",
    "    test_data = scaler.transform(test)\n",
    "    return train_data, test_data\n"
   ]
  },
  {
   "cell_type": "code",
   "execution_count": null,
   "id": "296d6a62",
   "metadata": {},
   "outputs": [
    {
     "ename": "NameError",
     "evalue": "name 'y_true' is not defined",
     "output_type": "error",
     "traceback": [
      "\u001b[31m---------------------------------------------------------------------------\u001b[39m",
      "\u001b[31mNameError\u001b[39m                                 Traceback (most recent call last)",
      "\u001b[36mCell\u001b[39m\u001b[36m \u001b[39m\u001b[32mIn[42]\u001b[39m\u001b[32m, line 11\u001b[39m\n\u001b[32m      7\u001b[39m lasso_regression_model = Lasso(alpha=\u001b[32m1\u001b[39m)\n\u001b[32m      9\u001b[39m \u001b[38;5;66;03m# configurare validare incrucisata\u001b[39;00m\n\u001b[32m     10\u001b[39m \u001b[38;5;66;03m# calcularea valorii MSE și MAE\u001b[39;00m\n\u001b[32m---> \u001b[39m\u001b[32m11\u001b[39m mse_value = mean_squared_error(\u001b[43my_true\u001b[49m, y_pred)\n\u001b[32m     12\u001b[39m mae_value = mean_absolute_error(y_true, y_pred)\n",
      "\u001b[31mNameError\u001b[39m: name 'y_true' is not defined"
     ]
    }
   ],
   "source": [
    "from sklearn.model_selection import cross_val_predict, KFold\n",
    "from sklearn.linear_model import LinearRegression, Ridge, Lasso\n",
    "from sklearn.metrics import mean_squared_error, mean_absolute_error\n",
    "# definirea modelelor\n",
    "linear_regression_model = LinearRegression()\n",
    "ridge_regression_model = Ridge(alpha=1)\n",
    "lasso_regression_model = Lasso(alpha=1)\n",
    "\n",
    "# configurare validare incrucisata\n",
    "kf = KFold(n_splits=3, shuffle = True, random_state=0)\n",
    "for train, test in kf.split(training_data):\n",
    "    \n",
    "y_pred = cross_val_predict\n",
    "# calcularea valorii MSE și MAE\n",
    "mse_value = mean_squared_error(y_true, y_pred)\n",
    "mae_value = mean_absolute_error(y_true, y_pred)"
   ]
  },
  {
   "cell_type": "code",
   "execution_count": null,
   "id": "ee91497d",
   "metadata": {},
   "outputs": [],
   "source": []
  }
 ],
 "metadata": {
  "kernelspec": {
   "display_name": "Python 3",
   "language": "python",
   "name": "python3"
  },
  "language_info": {
   "codemirror_mode": {
    "name": "ipython",
    "version": 3
   },
   "file_extension": ".py",
   "mimetype": "text/x-python",
   "name": "python",
   "nbconvert_exporter": "python",
   "pygments_lexer": "ipython3",
   "version": "3.12.3"
  }
 },
 "nbformat": 4,
 "nbformat_minor": 5
}
