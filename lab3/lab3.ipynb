{
 "cells": [
  {
   "cell_type": "code",
   "execution_count": 5,
   "id": "66dc009f",
   "metadata": {},
   "outputs": [],
   "source": [
    "from sklearn import svm\n",
    "from sklearn import preprocessing"
   ]
  },
  {
   "cell_type": "code",
   "execution_count": null,
   "id": "fed1ab6b",
   "metadata": {},
   "outputs": [],
   "source": [
    "import numpy as np"
   ]
  },
  {
   "cell_type": "code",
   "execution_count": null,
   "id": "aa788c7d",
   "metadata": {},
   "outputs": [],
   "source": [
    "x_train = np.array([[1, -1, 2], [2, 0, 0], [0, 1, -1]], dtype = np.float64)\n",
    "x_test = np.array([[-1, 1, 0]], dtype=np.float64)\n",
    "\n",
    "def normalize_data(train_data, test_data, type = None):\n",
    "    match type:\n",
    "        case \"l1\":\n",
    "            return train_data / np.sum(np.abs(train_data))\n",
    "        case \"l2\":\n",
    "            return train_data / np.sqrt(np.sum(np.square(train_data)))\n",
    "        case \"standard\":\n",
    "            scaler = preprocessing.StandardScaler()\n",
    "            scaled_x_train = scaler.transform(x_train)\n",
    "            scaled_x_test = scaler.transform(x_test)\n",
    "            return scaled_x_train, scaled_x_test"
   ]
  },
  {
   "cell_type": "code",
   "execution_count": null,
   "id": "5a60a184",
   "metadata": {},
   "outputs": [],
   "source": [
    "def BagOfWords(data):\n",
    "    build_vocabulary(self, data):\n",
    "        \n",
    "\n"
   ]
  }
 ],
 "metadata": {
  "kernelspec": {
   "display_name": "Python 3",
   "language": "python",
   "name": "python3"
  },
  "language_info": {
   "codemirror_mode": {
    "name": "ipython",
    "version": 3
   },
   "file_extension": ".py",
   "mimetype": "text/x-python",
   "name": "python",
   "nbconvert_exporter": "python",
   "pygments_lexer": "ipython3",
   "version": "3.12.3"
  }
 },
 "nbformat": 4,
 "nbformat_minor": 5
}
