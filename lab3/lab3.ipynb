{
 "cells": [
  {
   "cell_type": "code",
   "execution_count": null,
   "id": "66dc009f",
   "metadata": {},
   "outputs": [],
   "source": [
    "from sklearn import svm\n",
    "from sklearn import preprocessing\n",
    "import numpy as np"
   ]
  },
  {
   "cell_type": "code",
   "execution_count": 27,
   "id": "a9e92b68",
   "metadata": {},
   "outputs": [],
   "source": [
    "training_data = np.load(\"data/training_sentences.npy\", allow_pickle=True)\n",
    "training_labels = np.load(\"data/training_labels.npy\", allow_pickle=True)\n",
    "test_data = np.load(\"data/test_sentences.npy\", allow_pickle=True)\n",
    "test_labels = np.load(\"data/test_labels.npy\", allow_pickle=True)\n"
   ]
  },
  {
   "cell_type": "code",
   "execution_count": 28,
   "id": "fed1ab6b",
   "metadata": {},
   "outputs": [],
   "source": [
    "def normalize_data(train, test, type = None):\n",
    "    match type:\n",
    "        case \"None\":\n",
    "            x_train = train\n",
    "            x_test = test\n",
    "        case \"l1\":\n",
    "            x_train = train / np.sum(np.abs(train))\n",
    "            x_test = test / np.sum(np.abs(test))\n",
    "        case \"l2\":\n",
    "            x_train = train / np.sqrt(np.sum(np.square(train)))\n",
    "            x_test = test / np.sqrt(np.sum(np.square(test)))\n",
    "        case \"standard\":\n",
    "            scaler = preprocessing.StandardScaler()\n",
    "            x_train = scaler.transform(train)\n",
    "            x_test = scaler.transform(test)\n",
    "    return x_train, x_test"
   ]
  },
  {
   "cell_type": "code",
   "execution_count": 33,
   "id": "5a60a184",
   "metadata": {},
   "outputs": [],
   "source": [
    "class BagOfWords:\n",
    "    def __init__(self):\n",
    "        self.dictionary = {}\n",
    "        self.list = []\n",
    "    def build_vocabulary(self, data):\n",
    "        cnt = 0\n",
    "        for sms in data:\n",
    "            for word in sms:\n",
    "                if word not in self.dictionary:\n",
    "                    self.dictionary[word] = cnt\n",
    "                    self.list.append(word)\n",
    "                    cnt += 1\n",
    "        print(f\"length of the dictionary: {len(self.dictionary)}\")\n",
    "    \n",
    "    def get_features(self, data):\n",
    "        num_samples = len(data)\n",
    "        dictionary_len = len(self.dictionary)\n",
    "        features = np.zeros((num_samples,dictionary_len))\n",
    "        for i, sms in enumerate(data):\n",
    "            for word in sms:\n",
    "                if word in self.dictionary:\n",
    "                    features[i][self.dictionary[word]] += 1\n",
    "        \n",
    "        return features    "
   ]
  },
  {
   "cell_type": "code",
   "execution_count": null,
   "id": "1b0b9a08",
   "metadata": {},
   "outputs": [
    {
     "name": "stdout",
     "output_type": "stream",
     "text": [
      "length of the dictionary: 9522\n"
     ]
    },
    {
     "data": {
      "text/plain": [
       "0.8614130434782609"
      ]
     },
     "execution_count": 34,
     "metadata": {},
     "output_type": "execute_result"
    }
   ],
   "source": [
    "bow = BagOfWords()\n",
    "bow.build_vocabulary(training_data)\n",
    "\n",
    "x_train = bow.get_features(training_data)\n",
    "x_test = bow.get_features(test_data)\n",
    "\n",
    "x_train, x_test = normalize_data(x_train, x_test, \"l2\")\n",
    "\n",
    "svm_model = svm.SVC(kernel=\"linear\", C=1)\n",
    "svm_model.fit(x_train, training_labels)\n",
    "\n",
    "svm_model.score(x_test, test_labels)\n"
   ]
  }
 ],
 "metadata": {
  "kernelspec": {
   "display_name": "Python 3",
   "language": "python",
   "name": "python3"
  },
  "language_info": {
   "codemirror_mode": {
    "name": "ipython",
    "version": 3
   },
   "file_extension": ".py",
   "mimetype": "text/x-python",
   "name": "python",
   "nbconvert_exporter": "python",
   "pygments_lexer": "ipython3",
   "version": "3.12.3"
  }
 },
 "nbformat": 4,
 "nbformat_minor": 5
}
