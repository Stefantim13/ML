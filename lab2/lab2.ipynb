{
 "cells": [
  {
   "cell_type": "code",
   "execution_count": null,
   "id": "d9d76dd9",
   "metadata": {},
   "outputs": [],
   "source": [
    "def __init__(self, train_images, train_labels):\n",
    "    self.train_images = train_images\n",
    "    self.train_labels = train_labels"
   ]
  },
  {
   "cell_type": "code",
   "execution_count": null,
   "id": "57980c00",
   "metadata": {},
   "outputs": [],
   "source": [
    "def classify_image(self, test_image, num_neighbours = 3, metric = 'l2')\n",
    "    "
   ]
  }
 ],
 "metadata": {
  "language_info": {
   "name": "python"
  }
 },
 "nbformat": 4,
 "nbformat_minor": 5
}
